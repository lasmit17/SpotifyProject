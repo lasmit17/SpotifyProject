{
 "cells": [
  {
   "cell_type": "code",
   "execution_count": 42,
   "id": "b31f41c2",
   "metadata": {},
   "outputs": [
    {
     "name": "stdout",
     "output_type": "stream",
     "text": [
      "Requirement already satisfied: spotipy in c:\\users\\fpawe\\anaconda3\\lib\\site-packages (2.20.0)\n",
      "Requirement already satisfied: six>=1.15.0 in c:\\users\\fpawe\\anaconda3\\lib\\site-packages (from spotipy) (1.16.0)\n",
      "Requirement already satisfied: urllib3>=1.26.0 in c:\\users\\fpawe\\anaconda3\\lib\\site-packages (from spotipy) (1.26.7)\n",
      "Requirement already satisfied: requests>=2.25.0 in c:\\users\\fpawe\\anaconda3\\lib\\site-packages (from spotipy) (2.26.0)\n",
      "Requirement already satisfied: redis>=3.5.3 in c:\\users\\fpawe\\anaconda3\\lib\\site-packages (from spotipy) (4.3.4)\n",
      "Requirement already satisfied: async-timeout>=4.0.2 in c:\\users\\fpawe\\anaconda3\\lib\\site-packages (from redis>=3.5.3->spotipy) (4.0.2)\n",
      "Requirement already satisfied: packaging>=20.4 in c:\\users\\fpawe\\anaconda3\\lib\\site-packages (from redis>=3.5.3->spotipy) (21.0)\n",
      "Requirement already satisfied: deprecated>=1.2.3 in c:\\users\\fpawe\\anaconda3\\lib\\site-packages (from redis>=3.5.3->spotipy) (1.2.13)\n",
      "Requirement already satisfied: wrapt<2,>=1.10 in c:\\users\\fpawe\\anaconda3\\lib\\site-packages (from deprecated>=1.2.3->redis>=3.5.3->spotipy) (1.12.1)\n",
      "Requirement already satisfied: pyparsing>=2.0.2 in c:\\users\\fpawe\\anaconda3\\lib\\site-packages (from packaging>=20.4->redis>=3.5.3->spotipy) (3.0.4)\n",
      "Requirement already satisfied: certifi>=2017.4.17 in c:\\users\\fpawe\\anaconda3\\lib\\site-packages (from requests>=2.25.0->spotipy) (2021.10.8)\n",
      "Requirement already satisfied: idna<4,>=2.5 in c:\\users\\fpawe\\anaconda3\\lib\\site-packages (from requests>=2.25.0->spotipy) (3.2)\n",
      "Requirement already satisfied: charset-normalizer~=2.0.0 in c:\\users\\fpawe\\anaconda3\\lib\\site-packages (from requests>=2.25.0->spotipy) (2.0.4)\n",
      "Note: you may need to restart the kernel to use updated packages.\n"
     ]
    }
   ],
   "source": [
    "pip install spotipy"
   ]
  },
  {
   "cell_type": "code",
   "execution_count": 46,
   "id": "24978c63",
   "metadata": {},
   "outputs": [],
   "source": [
    "import spotipy\n",
    "from spotipy.oauth2 import SpotifyClientCredentials\n",
    "import pandas as pd\n",
    "import time\n",
    "import numpy as np\n"
   ]
  },
  {
   "cell_type": "code",
   "execution_count": 47,
   "id": "bea6f4d7",
   "metadata": {},
   "outputs": [],
   "source": [
    "#File contains Client_ID and Client_Secret_ID required to use Spotify's API\n",
    "spotify_client_info = pd.read_csv(\"C:\\\\Users\\\\fpawe\\\\OneDrive - Hertie School\\\\hertie-projects\\\\SpotifyProject\\\\Data\\\\spotify_client_info.csv\")"
   ]
  },
  {
   "cell_type": "code",
   "execution_count": 49,
   "id": "62ba25cd",
   "metadata": {},
   "outputs": [
    {
     "data": {
      "text/html": [
       "<div>\n",
       "<style scoped>\n",
       "    .dataframe tbody tr th:only-of-type {\n",
       "        vertical-align: middle;\n",
       "    }\n",
       "\n",
       "    .dataframe tbody tr th {\n",
       "        vertical-align: top;\n",
       "    }\n",
       "\n",
       "    .dataframe thead th {\n",
       "        text-align: right;\n",
       "    }\n",
       "</style>\n",
       "<table border=\"1\" class=\"dataframe\">\n",
       "  <thead>\n",
       "    <tr style=\"text-align: right;\">\n",
       "      <th></th>\n",
       "      <th>client_id</th>\n",
       "      <th>client_secret</th>\n",
       "    </tr>\n",
       "  </thead>\n",
       "  <tbody>\n",
       "    <tr>\n",
       "      <th>0</th>\n",
       "      <td>008f19967d4b4b23b33ce1aec9b6a5b0</td>\n",
       "      <td>f385999981b34862bbe13e6ef4badc4a</td>\n",
       "    </tr>\n",
       "  </tbody>\n",
       "</table>\n",
       "</div>"
      ],
      "text/plain": [
       "                          client_id                     client_secret\n",
       "0  008f19967d4b4b23b33ce1aec9b6a5b0  f385999981b34862bbe13e6ef4badc4a"
      ]
     },
     "execution_count": 49,
     "metadata": {},
     "output_type": "execute_result"
    }
   ],
   "source": [
    "spotify_client_info"
   ]
  },
  {
   "cell_type": "code",
   "execution_count": 50,
   "id": "1bf552f5",
   "metadata": {},
   "outputs": [],
   "source": [
    "client_id = spotify_client_info.iloc[0,0]\n",
    "client_secret = spotify_client_info.iloc[0,1]\n",
    "\n",
    "client_credentials_manager = SpotifyClientCredentials(client_id, client_secret)\n",
    "sp = spotipy.Spotify(client_credentials_manager=client_credentials_manager)"
   ]
  },
  {
   "cell_type": "code",
   "execution_count": 51,
   "id": "449185e2",
   "metadata": {},
   "outputs": [],
   "source": [
    "#Function to get tracks from a specific user's playlist\n",
    "def getTrackIDs(user, playlist_id):\n",
    "    ids = []\n",
    "    playlist = sp.user_playlist(user, playlist_id)\n",
    "    for item in playlist['tracks']['items']:\n",
    "        track = item['track']\n",
    "        ids.append(track['id'])\n",
    "    return ids"
   ]
  },
  {
   "cell_type": "code",
   "execution_count": 52,
   "id": "c5bfe7a3",
   "metadata": {},
   "outputs": [],
   "source": [
    "#Gets Spotify's song features from the song's ID\n",
    "def getTrackFeatures(id):\n",
    "    meta = sp.track(id)\n",
    "    features = sp.audio_features(id)\n",
    "\n",
    "    # meta\n",
    "    name = meta['name']\n",
    "    album = meta['album']['name']\n",
    "    artist = meta['album']['artists'][0]['name']\n",
    "    release_date = meta['album']['release_date']\n",
    "    length = meta['duration_ms']\n",
    "    popularity = meta['popularity']\n",
    "\n",
    "    # features\n",
    "    acousticness = features[0]['acousticness']\n",
    "    danceability = features[0]['danceability']\n",
    "    energy = features[0]['energy']\n",
    "    instrumentalness = features[0]['instrumentalness']\n",
    "    liveness = features[0]['liveness']\n",
    "    loudness = features[0]['loudness']\n",
    "    speechiness = features[0]['speechiness']\n",
    "    tempo = features[0]['tempo']\n",
    "    valence = features[0]['valence']\n",
    "    time_signature = features[0]['time_signature']\n",
    "    key = features[0]['key']\n",
    "    mode = features[0]['mode']\n",
    "    uri = features[0]['uri']\n",
    "\n",
    "    track = [name, album, artist, release_date,\n",
    "             length, popularity, acousticness,\n",
    "             danceability, energy, instrumentalness,\n",
    "             liveness, loudness, speechiness, tempo,\n",
    "             valence, time_signature,\n",
    "             key, mode, uri]\n",
    "    return track\n"
   ]
  },
  {
   "cell_type": "code",
   "execution_count": 53,
   "id": "185506af",
   "metadata": {},
   "outputs": [],
   "source": [
    "#Loops over track ids to get all songs in playlist\n",
    "def loop_playist(playlist_ids):\n",
    "    tracks = []\n",
    "    for i in range(len(playlist_ids)):\n",
    "        time.sleep(.2)\n",
    "        track = getTrackFeatures(playlist_ids[i])\n",
    "        tracks.append(track)\n",
    "    return tracks"
   ]
  },
  {
   "cell_type": "code",
   "execution_count": 54,
   "id": "efe3006a",
   "metadata": {},
   "outputs": [],
   "source": [
    "#Creates dataframes with columns for each of Spotify's features\n",
    "def get_spotify_df(tracks, year):\n",
    "    df = pd.DataFrame(tracks, columns = ['name', 'album', 'artist', 'release_date',\n",
    "                                         'length', 'popularity', 'acousticness', 'danceability',\n",
    "                                         'energy', 'instrumentalness', 'liveness', 'loudness',\n",
    "                                         'speechiness', 'tempo', 'valence', 'time_signature',\n",
    "                                         'key', 'mode', 'uri'])\n",
    "    return df"
   ]
  },
  {
   "cell_type": "code",
   "execution_count": 55,
   "id": "f94cf011",
   "metadata": {},
   "outputs": [
    {
     "ename": "NameError",
     "evalue": "name 'spotify_client_' is not defined",
     "output_type": "error",
     "traceback": [
      "\u001b[1;31m---------------------------------------------------------------------------\u001b[0m",
      "\u001b[1;31mNameError\u001b[0m                                 Traceback (most recent call last)",
      "\u001b[1;32m~\\AppData\\Local\\Temp/ipykernel_23032/2115665215.py\u001b[0m in \u001b[0;36m<module>\u001b[1;34m\u001b[0m\n\u001b[0;32m      1\u001b[0m \u001b[0mspotify_client_info\u001b[0m \u001b[1;33m=\u001b[0m \u001b[0mpd\u001b[0m\u001b[1;33m.\u001b[0m\u001b[0mread_csv\u001b[0m\u001b[1;33m(\u001b[0m\u001b[1;34m\"C:\\\\Users\\\\fpawe\\\\OneDrive - Hertie School\\\\hertie-projects\\\\SpotifyProject\\\\Data\\\\spotify_users_and_playlist_FP.csv\"\u001b[0m\u001b[1;33m)\u001b[0m\u001b[1;33m\u001b[0m\u001b[1;33m\u001b[0m\u001b[0m\n\u001b[1;32m----> 2\u001b[1;33m \u001b[0mspotify_client_\u001b[0m\u001b[1;33m\u001b[0m\u001b[1;33m\u001b[0m\u001b[0m\n\u001b[0m",
      "\u001b[1;31mNameError\u001b[0m: name 'spotify_client_' is not defined"
     ]
    }
   ],
   "source": [
    "#spotify_client_info = pd.read_csv(\"C:\\\\Users\\\\fpawe\\\\OneDrive - Hertie School\\\\hertie-projects\\\\SpotifyProject\\\\Data\\\\spotify_users_and_playlist_FP.csv\")\n",
    "#spotify_client_info"
   ]
  },
  {
   "cell_type": "code",
   "execution_count": 60,
   "id": "db71b4d1",
   "metadata": {},
   "outputs": [
    {
     "ename": "IndexError",
     "evalue": "single positional indexer is out-of-bounds",
     "output_type": "error",
     "traceback": [
      "\u001b[1;31m---------------------------------------------------------------------------\u001b[0m",
      "\u001b[1;31mIndexError\u001b[0m                                Traceback (most recent call last)",
      "\u001b[1;32m~\\AppData\\Local\\Temp/ipykernel_23032/4052796702.py\u001b[0m in \u001b[0;36m<module>\u001b[1;34m\u001b[0m\n\u001b[0;32m     15\u001b[0m \u001b[0mfabian_playlist_2019\u001b[0m \u001b[1;33m=\u001b[0m \u001b[0mspotify_users_and_playlists_FP\u001b[0m\u001b[1;33m.\u001b[0m\u001b[0miloc\u001b[0m\u001b[1;33m[\u001b[0m\u001b[1;36m3\u001b[0m\u001b[1;33m,\u001b[0m\u001b[1;36m1\u001b[0m\u001b[1;33m]\u001b[0m\u001b[1;33m\u001b[0m\u001b[1;33m\u001b[0m\u001b[0m\n\u001b[0;32m     16\u001b[0m \u001b[0mfabian_playlist_2020\u001b[0m \u001b[1;33m=\u001b[0m \u001b[0mspotify_users_and_playlists_FP\u001b[0m\u001b[1;33m.\u001b[0m\u001b[0miloc\u001b[0m\u001b[1;33m[\u001b[0m\u001b[1;36m4\u001b[0m\u001b[1;33m,\u001b[0m\u001b[1;36m1\u001b[0m\u001b[1;33m]\u001b[0m\u001b[1;33m\u001b[0m\u001b[1;33m\u001b[0m\u001b[0m\n\u001b[1;32m---> 17\u001b[1;33m \u001b[0mfabian_playlist_2021\u001b[0m \u001b[1;33m=\u001b[0m \u001b[0mspotify_users_and_playlists_FP\u001b[0m\u001b[1;33m.\u001b[0m\u001b[0miloc\u001b[0m\u001b[1;33m[\u001b[0m\u001b[1;36m5\u001b[0m\u001b[1;33m,\u001b[0m\u001b[1;36m1\u001b[0m\u001b[1;33m]\u001b[0m\u001b[1;33m\u001b[0m\u001b[1;33m\u001b[0m\u001b[0m\n\u001b[0m\u001b[0;32m     18\u001b[0m \u001b[1;33m\u001b[0m\u001b[0m\n\u001b[0;32m     19\u001b[0m \u001b[0mids_2017\u001b[0m \u001b[1;33m=\u001b[0m \u001b[0mgetTrackIDs\u001b[0m\u001b[1;33m(\u001b[0m\u001b[0mfabian_user\u001b[0m\u001b[1;33m,\u001b[0m \u001b[0mfabian_playlist_2017\u001b[0m\u001b[1;33m)\u001b[0m\u001b[1;33m\u001b[0m\u001b[1;33m\u001b[0m\u001b[0m\n",
      "\u001b[1;32m~\\anaconda3\\lib\\site-packages\\pandas\\core\\indexing.py\u001b[0m in \u001b[0;36m__getitem__\u001b[1;34m(self, key)\u001b[0m\n\u001b[0;32m    923\u001b[0m                 \u001b[1;32mwith\u001b[0m \u001b[0msuppress\u001b[0m\u001b[1;33m(\u001b[0m\u001b[0mKeyError\u001b[0m\u001b[1;33m,\u001b[0m \u001b[0mIndexError\u001b[0m\u001b[1;33m)\u001b[0m\u001b[1;33m:\u001b[0m\u001b[1;33m\u001b[0m\u001b[1;33m\u001b[0m\u001b[0m\n\u001b[0;32m    924\u001b[0m                     \u001b[1;32mreturn\u001b[0m \u001b[0mself\u001b[0m\u001b[1;33m.\u001b[0m\u001b[0mobj\u001b[0m\u001b[1;33m.\u001b[0m\u001b[0m_get_value\u001b[0m\u001b[1;33m(\u001b[0m\u001b[1;33m*\u001b[0m\u001b[0mkey\u001b[0m\u001b[1;33m,\u001b[0m \u001b[0mtakeable\u001b[0m\u001b[1;33m=\u001b[0m\u001b[0mself\u001b[0m\u001b[1;33m.\u001b[0m\u001b[0m_takeable\u001b[0m\u001b[1;33m)\u001b[0m\u001b[1;33m\u001b[0m\u001b[1;33m\u001b[0m\u001b[0m\n\u001b[1;32m--> 925\u001b[1;33m             \u001b[1;32mreturn\u001b[0m \u001b[0mself\u001b[0m\u001b[1;33m.\u001b[0m\u001b[0m_getitem_tuple\u001b[0m\u001b[1;33m(\u001b[0m\u001b[0mkey\u001b[0m\u001b[1;33m)\u001b[0m\u001b[1;33m\u001b[0m\u001b[1;33m\u001b[0m\u001b[0m\n\u001b[0m\u001b[0;32m    926\u001b[0m         \u001b[1;32melse\u001b[0m\u001b[1;33m:\u001b[0m\u001b[1;33m\u001b[0m\u001b[1;33m\u001b[0m\u001b[0m\n\u001b[0;32m    927\u001b[0m             \u001b[1;31m# we by definition only have the 0th axis\u001b[0m\u001b[1;33m\u001b[0m\u001b[1;33m\u001b[0m\u001b[0m\n",
      "\u001b[1;32m~\\anaconda3\\lib\\site-packages\\pandas\\core\\indexing.py\u001b[0m in \u001b[0;36m_getitem_tuple\u001b[1;34m(self, tup)\u001b[0m\n\u001b[0;32m   1504\u001b[0m     \u001b[1;32mdef\u001b[0m \u001b[0m_getitem_tuple\u001b[0m\u001b[1;33m(\u001b[0m\u001b[0mself\u001b[0m\u001b[1;33m,\u001b[0m \u001b[0mtup\u001b[0m\u001b[1;33m:\u001b[0m \u001b[0mtuple\u001b[0m\u001b[1;33m)\u001b[0m\u001b[1;33m:\u001b[0m\u001b[1;33m\u001b[0m\u001b[1;33m\u001b[0m\u001b[0m\n\u001b[0;32m   1505\u001b[0m \u001b[1;33m\u001b[0m\u001b[0m\n\u001b[1;32m-> 1506\u001b[1;33m         \u001b[0mself\u001b[0m\u001b[1;33m.\u001b[0m\u001b[0m_has_valid_tuple\u001b[0m\u001b[1;33m(\u001b[0m\u001b[0mtup\u001b[0m\u001b[1;33m)\u001b[0m\u001b[1;33m\u001b[0m\u001b[1;33m\u001b[0m\u001b[0m\n\u001b[0m\u001b[0;32m   1507\u001b[0m         \u001b[1;32mwith\u001b[0m \u001b[0msuppress\u001b[0m\u001b[1;33m(\u001b[0m\u001b[0mIndexingError\u001b[0m\u001b[1;33m)\u001b[0m\u001b[1;33m:\u001b[0m\u001b[1;33m\u001b[0m\u001b[1;33m\u001b[0m\u001b[0m\n\u001b[0;32m   1508\u001b[0m             \u001b[1;32mreturn\u001b[0m \u001b[0mself\u001b[0m\u001b[1;33m.\u001b[0m\u001b[0m_getitem_lowerdim\u001b[0m\u001b[1;33m(\u001b[0m\u001b[0mtup\u001b[0m\u001b[1;33m)\u001b[0m\u001b[1;33m\u001b[0m\u001b[1;33m\u001b[0m\u001b[0m\n",
      "\u001b[1;32m~\\anaconda3\\lib\\site-packages\\pandas\\core\\indexing.py\u001b[0m in \u001b[0;36m_has_valid_tuple\u001b[1;34m(self, key)\u001b[0m\n\u001b[0;32m    752\u001b[0m         \u001b[1;32mfor\u001b[0m \u001b[0mi\u001b[0m\u001b[1;33m,\u001b[0m \u001b[0mk\u001b[0m \u001b[1;32min\u001b[0m \u001b[0menumerate\u001b[0m\u001b[1;33m(\u001b[0m\u001b[0mkey\u001b[0m\u001b[1;33m)\u001b[0m\u001b[1;33m:\u001b[0m\u001b[1;33m\u001b[0m\u001b[1;33m\u001b[0m\u001b[0m\n\u001b[0;32m    753\u001b[0m             \u001b[1;32mtry\u001b[0m\u001b[1;33m:\u001b[0m\u001b[1;33m\u001b[0m\u001b[1;33m\u001b[0m\u001b[0m\n\u001b[1;32m--> 754\u001b[1;33m                 \u001b[0mself\u001b[0m\u001b[1;33m.\u001b[0m\u001b[0m_validate_key\u001b[0m\u001b[1;33m(\u001b[0m\u001b[0mk\u001b[0m\u001b[1;33m,\u001b[0m \u001b[0mi\u001b[0m\u001b[1;33m)\u001b[0m\u001b[1;33m\u001b[0m\u001b[1;33m\u001b[0m\u001b[0m\n\u001b[0m\u001b[0;32m    755\u001b[0m             \u001b[1;32mexcept\u001b[0m \u001b[0mValueError\u001b[0m \u001b[1;32mas\u001b[0m \u001b[0merr\u001b[0m\u001b[1;33m:\u001b[0m\u001b[1;33m\u001b[0m\u001b[1;33m\u001b[0m\u001b[0m\n\u001b[0;32m    756\u001b[0m                 raise ValueError(\n",
      "\u001b[1;32m~\\anaconda3\\lib\\site-packages\\pandas\\core\\indexing.py\u001b[0m in \u001b[0;36m_validate_key\u001b[1;34m(self, key, axis)\u001b[0m\n\u001b[0;32m   1407\u001b[0m             \u001b[1;32mreturn\u001b[0m\u001b[1;33m\u001b[0m\u001b[1;33m\u001b[0m\u001b[0m\n\u001b[0;32m   1408\u001b[0m         \u001b[1;32melif\u001b[0m \u001b[0mis_integer\u001b[0m\u001b[1;33m(\u001b[0m\u001b[0mkey\u001b[0m\u001b[1;33m)\u001b[0m\u001b[1;33m:\u001b[0m\u001b[1;33m\u001b[0m\u001b[1;33m\u001b[0m\u001b[0m\n\u001b[1;32m-> 1409\u001b[1;33m             \u001b[0mself\u001b[0m\u001b[1;33m.\u001b[0m\u001b[0m_validate_integer\u001b[0m\u001b[1;33m(\u001b[0m\u001b[0mkey\u001b[0m\u001b[1;33m,\u001b[0m \u001b[0maxis\u001b[0m\u001b[1;33m)\u001b[0m\u001b[1;33m\u001b[0m\u001b[1;33m\u001b[0m\u001b[0m\n\u001b[0m\u001b[0;32m   1410\u001b[0m         \u001b[1;32melif\u001b[0m \u001b[0misinstance\u001b[0m\u001b[1;33m(\u001b[0m\u001b[0mkey\u001b[0m\u001b[1;33m,\u001b[0m \u001b[0mtuple\u001b[0m\u001b[1;33m)\u001b[0m\u001b[1;33m:\u001b[0m\u001b[1;33m\u001b[0m\u001b[1;33m\u001b[0m\u001b[0m\n\u001b[0;32m   1411\u001b[0m             \u001b[1;31m# a tuple should already have been caught by this point\u001b[0m\u001b[1;33m\u001b[0m\u001b[1;33m\u001b[0m\u001b[0m\n",
      "\u001b[1;32m~\\anaconda3\\lib\\site-packages\\pandas\\core\\indexing.py\u001b[0m in \u001b[0;36m_validate_integer\u001b[1;34m(self, key, axis)\u001b[0m\n\u001b[0;32m   1498\u001b[0m         \u001b[0mlen_axis\u001b[0m \u001b[1;33m=\u001b[0m \u001b[0mlen\u001b[0m\u001b[1;33m(\u001b[0m\u001b[0mself\u001b[0m\u001b[1;33m.\u001b[0m\u001b[0mobj\u001b[0m\u001b[1;33m.\u001b[0m\u001b[0m_get_axis\u001b[0m\u001b[1;33m(\u001b[0m\u001b[0maxis\u001b[0m\u001b[1;33m)\u001b[0m\u001b[1;33m)\u001b[0m\u001b[1;33m\u001b[0m\u001b[1;33m\u001b[0m\u001b[0m\n\u001b[0;32m   1499\u001b[0m         \u001b[1;32mif\u001b[0m \u001b[0mkey\u001b[0m \u001b[1;33m>=\u001b[0m \u001b[0mlen_axis\u001b[0m \u001b[1;32mor\u001b[0m \u001b[0mkey\u001b[0m \u001b[1;33m<\u001b[0m \u001b[1;33m-\u001b[0m\u001b[0mlen_axis\u001b[0m\u001b[1;33m:\u001b[0m\u001b[1;33m\u001b[0m\u001b[1;33m\u001b[0m\u001b[0m\n\u001b[1;32m-> 1500\u001b[1;33m             \u001b[1;32mraise\u001b[0m \u001b[0mIndexError\u001b[0m\u001b[1;33m(\u001b[0m\u001b[1;34m\"single positional indexer is out-of-bounds\"\u001b[0m\u001b[1;33m)\u001b[0m\u001b[1;33m\u001b[0m\u001b[1;33m\u001b[0m\u001b[0m\n\u001b[0m\u001b[0;32m   1501\u001b[0m \u001b[1;33m\u001b[0m\u001b[0m\n\u001b[0;32m   1502\u001b[0m     \u001b[1;31m# -------------------------------------------------------------------\u001b[0m\u001b[1;33m\u001b[0m\u001b[1;33m\u001b[0m\u001b[0m\n",
      "\u001b[1;31mIndexError\u001b[0m: single positional indexer is out-of-bounds"
     ]
    }
   ],
   "source": [
    "#CSV that includes the username and playlist ID for each year between 2016-2020\n",
    "spotify_users_and_playlists_FP = pd.read_csv(\"C:\\\\Users\\\\fpawe\\\\OneDrive - Hertie School\\\\hertie-projects\\\\SpotifyProject\\\\Data\\\\spotify_users_and_playlist_FP.csv\")\n",
    "\n",
    "\n",
    "fabian_user = spotify_users_and_playlists_FP.iloc[0,0]\n",
    "\n",
    "#fabian_playlist_2017 = spotify_users_and_playlists_FP.iloc[0,1]\n",
    "#fabian_playlist_2018 = spotify_users_and_playlists_FP.iloc[1,1]\n",
    "#fabian_playlist_2019 = spotify_users_and_playlists_FP.iloc[2,1]\n",
    "#fabian_playlist_2020 = spotify_users_and_playlists_FP.iloc[3,1]\n",
    "#fabian_playlist_2021 = spotify_users_and_playlists_FP.iloc[4,1]\n",
    "\n",
    "fabian_playlist_2017 = spotify_users_and_playlists_FP.iloc[1,1]\n",
    "fabian_playlist_2018 = spotify_users_and_playlists_FP.iloc[2,1]\n",
    "fabian_playlist_2019 = spotify_users_and_playlists_FP.iloc[3,1]\n",
    "fabian_playlist_2020 = spotify_users_and_playlists_FP.iloc[4,1]\n",
    "fabian_playlist_2021 = spotify_users_and_playlists_FP.iloc[5,1]\n",
    "\n",
    "ids_2017 = getTrackIDs(fabian_user, fabian_playlist_2017)\n",
    "ids_2018 = getTrackIDs(fabian_user, fabian_playlist_2018)\n",
    "ids_2019 = getTrackIDs(fabian_user, fabian_playlist_2019)\n",
    "ids_2020 = getTrackIDs(fabian_user, fabian_playlist_2020)\n",
    "ids_2021 = getTrackIDs(fabian_user, fabian_playlist_2021)\n",
    "\n",
    "\n",
    "\n",
    "time_start = time.time()\n",
    "ids_2017_playlist_loop = loop_playist(ids_2017)\n",
    "ids_2018_playlist_loop = loop_playist(ids_2018)\n",
    "ids_2019_playlist_loop = loop_playist(ids_2019)\n",
    "ids_2020_playlist_loop = loop_playist(ids_2020)\n",
    "ids_2021_playlist_loop = loop_playist(ids_2021)\n",
    "time_end = time.time()\n",
    "print((time_end - time_start)/60)\n",
    "\n",
    "df_2017 = get_spotify_df(ids_2017_playlist_loop, 2017)\n",
    "df_2018 = get_spotify_df(ids_2018_playlist_loop, 2018)\n",
    "df_2019 = get_spotify_df(ids_2019_playlist_loop, 2019)\n",
    "df_2020 = get_spotify_df(ids_2020_playlist_loop, 2020)\n",
    "df_2021 = get_spotify_df(ids_2021_playlist_loop, 2021)\n",
    "\n",
    "# save dataframes\n",
    "dfs = [df_2017,df_2018,df_2019,df_2020, df_2021]\n",
    "names = ['fp_2017', 'fp_2018', 'fp_2019', 'fp_2020', 'fp_2021']\n",
    "\n",
    "for df, name in zip(dfs, names):\n",
    "    df.to_csv(f'C:/Users/fpawe/OneDrive - Hertie School/hertie-projects/SpotifyProject/Data/{name}_Top_Songs.csv', index=False)\n",
    "\n",
    "\n",
    "df_2017 = pd.read_csv(f'C:/Users/fpawe/OneDrive - Hertie School/hertie-projects/SpotifyProject/Data/fp_2017_Top_Songs.csv')\n",
    "df_2018 = pd.read_csv(f'C:/Users/fpawe/OneDrive - Hertie School/hertie-projects/SpotifyProject/Data/fp_2018_Top_Songs.csv')\n",
    "df_2019 = pd.read_csv(f'C:/Users/fpawe/OneDrive - Hertie School/hertie-projects/SpotifyProject/Data/fp_2019_Top_Songs.csv')\n",
    "df_2020 = pd.read_csv(f'C:/Users/fpawe/OneDrive - Hertie School/hertie-projects/SpotifyProject/Data/fp_2020_Top_Songs.csv')\n",
    "df_2021 = pd.read_csv(f'C:/Users/fpawe/OneDrive - Hertie School/hertie-projects/SpotifyProject/Data/fp_2021_Top_Songs.csv')\n",
    "\n",
    "#df_2018 = pd.read_csv(f'C:/Users/lasmi/PyCharmProjects/SpotifyProject/Data/Luke_2018_Top_Songs.csv')\n",
    "#df_2019 = pd.read_csv(f'C:/Users/lasmi/PyCharmProjects/SpotifyProject/Data/Luke_2019_Top_Songs.csv')\n",
    "#df_2020 = pd.read_csv(f'C:/Users/lasmi/PyCharmProjects/SpotifyProject/Data/Luke_2020_Top_Songs.csv')\n",
    "\n"
   ]
  },
  {
   "cell_type": "code",
   "execution_count": null,
   "id": "739bea24",
   "metadata": {},
   "outputs": [],
   "source": [
    "display(df_2018)"
   ]
  }
 ],
 "metadata": {
  "kernelspec": {
   "display_name": "Python 3 (ipykernel)",
   "language": "python",
   "name": "python3"
  },
  "language_info": {
   "codemirror_mode": {
    "name": "ipython",
    "version": 3
   },
   "file_extension": ".py",
   "mimetype": "text/x-python",
   "name": "python",
   "nbconvert_exporter": "python",
   "pygments_lexer": "ipython3",
   "version": "3.9.7"
  }
 },
 "nbformat": 4,
 "nbformat_minor": 5
}
